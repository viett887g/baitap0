{
  "nbformat": 4,
  "nbformat_minor": 0,
  "metadata": {
    "colab": {
      "name": "Untitled3.ipynb",
      "provenance": [],
      "authorship_tag": "ABX9TyOkfvsFf7QnhFLn/zcTJPqk",
      "include_colab_link": true
    },
    "kernelspec": {
      "name": "python3",
      "display_name": "Python 3"
    },
    "language_info": {
      "name": "python"
    }
  },
  "cells": [
    {
      "cell_type": "markdown",
      "metadata": {
        "id": "view-in-github",
        "colab_type": "text"
      },
      "source": [
        "<a href=\"https://colab.research.google.com/github/viett887g/baitap0/blob/main/Untitled3.ipynb\" target=\"_parent\"><img src=\"https://colab.research.google.com/assets/colab-badge.svg\" alt=\"Open In Colab\"/></a>"
      ]
    },
    {
      "cell_type": "code",
      "metadata": {
        "colab": {
          "base_uri": "https://localhost:8080/"
        },
        "id": "35SiZhccx-GK",
        "outputId": "37b4225d-5905-429d-e013-cde825315823"
      },
      "source": [
        "variable = input(\"Enter a string: \")"
      ],
      "execution_count": 1,
      "outputs": [
        {
          "name": "stdout",
          "output_type": "stream",
          "text": [
            "Enter a string: 2\n"
          ]
        }
      ]
    },
    {
      "cell_type": "code",
      "metadata": {
        "id": "QpSU39E0yLhj"
      },
      "source": [
        "var = eval(stringVariable)\n",
        "\n",
        "eval(\"51 + (54 * (3 + 2))\") returns 321."
      ],
      "execution_count": null,
      "outputs": []
    },
    {
      "cell_type": "code",
      "metadata": {
        "id": "CkAOIo1dyUYY"
      },
      "source": [
        "radius = 1.0\n",
        "\n",
        "area = radius * radius * 3.14159\n",
        "\n",
        "print(\"The area is \", area,\n",
        "\n",
        "\" for radius \", radius)"
      ],
      "execution_count": null,
      "outputs": []
    },
    {
      "cell_type": "code",
      "metadata": {
        "id": "_v2J5MP3yWPp"
      },
      "source": [
        "radius = 2.0\n",
        "\n",
        "area = radius * radius * 3.14159\n",
        "\n",
        "print(\"The area is \", area,\n",
        "\n",
        "\" for radius \", radius)"
      ],
      "execution_count": null,
      "outputs": []
    },
    {
      "cell_type": "code",
      "metadata": {
        "id": "wthdeNqHyZa5"
      },
      "source": [
        ""
      ],
      "execution_count": null,
      "outputs": []
    }
  ]
}